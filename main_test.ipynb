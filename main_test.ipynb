{
 "metadata": {
  "language_info": {
   "codemirror_mode": {
    "name": "ipython",
    "version": 3
   },
   "file_extension": ".py",
   "mimetype": "text/x-python",
   "name": "python",
   "nbconvert_exporter": "python",
   "pygments_lexer": "ipython3",
   "version": "3.7.10"
  },
  "orig_nbformat": 2,
  "kernelspec": {
   "name": "python3710jvsc74a57bd0b26d3d498dc656b664098f7e87c5d0dab930058957088b8e1c9772db90c9ed0d",
   "display_name": "Python 3.7.10 64-bit ('gee': conda)"
  }
 },
 "nbformat": 4,
 "nbformat_minor": 2,
 "cells": [
  {
   "cell_type": "code",
   "execution_count": 1,
   "metadata": {},
   "outputs": [],
   "source": [
    "import ee \n",
    "ee.Initialize()"
   ]
  },
  {
   "cell_type": "code",
   "execution_count": 2,
   "metadata": {},
   "outputs": [],
   "source": [
    "import geemap\n",
    "Map = geemap.Map()\n",
    "# Map"
   ]
  },
  {
   "cell_type": "code",
   "execution_count": 3,
   "metadata": {},
   "outputs": [
    {
     "output_type": "stream",
     "name": "stdout",
     "text": [
      "easydict.EasyDict({\n",
      "    'JSON':\n",
      "        'G:\\\\PyProjects\\\\wildfire-s1s2-dataset\\\\wildfire_events\\\\'\n",
      "        'MTBS_AK_2017_2019_events_ROI.json',\n",
      "    'period': 'fire_period',\n",
      "    'season': [-1, 2]\n",
      "})\n",
      "2019-05-22T00:00:00 2019-08-22T00:00:00\n"
     ]
    }
   ],
   "source": [
    "\n",
    "from typing import Dict\n",
    "import ee\n",
    "ee.Initialize()\n",
    "\n",
    "from easydict import EasyDict as edict\n",
    "from prettyprinter import pprint\n",
    "\n",
    "import logging\n",
    "logger = logging.getLogger(__name__)\n",
    "\n",
    "# from eo_class.modisPoly import MODIS_POLY\n",
    "import yaml\n",
    "import numpy as np\n",
    "import json\n",
    "\n",
    "\"\"\" CFG \"\"\"\n",
    "cfg = edict({\n",
    "    \"JSON\": \"G:\\PyProjects\\wildfire-s1s2-dataset\\wildfire_events\\MTBS_AK_2017_2019_events_ROI.json\",\n",
    "    \"period\": 'fire_period', # \"season\"\n",
    "    \"season\": [-1, 2],\n",
    "})\n",
    "pprint(cfg)\n",
    "\n",
    "\"\"\" Fire Event \"\"\"\n",
    "from eo_class.fireEvent import load_json\n",
    "\n",
    "EVENT_SET = load_json(cfg.JSON)\n",
    "event = EVENT_SET['ak6569814836520190622']\n",
    "# pprint(event)\n",
    "\n",
    "queryEvent = edict(event.copy())\n",
    "queryEvent['start_date'] = event['Ig_Date']\n",
    "queryEvent['end_date'] = event['modisEndDate']\n",
    "queryEvent['year'] = ee.Number(event['YEAR']).format().getInfo()\n",
    "\n",
    "# pprint(queryEvent)\n",
    "\n",
    "queryEvent['roi'] = ee.Geometry.Polygon(event['roi']).bounds()\n",
    "\n",
    "\n",
    "# pprint(queryEvent)\n",
    "\n",
    "# fire period\n",
    "if 'fire_period' in cfg.period:\n",
    "    period_start = ee.Date(queryEvent['start_date']).advance(-1, 'month')\n",
    "    period_end = ee.Date(queryEvent['start_date']).advance(2, 'month')\n",
    "\n",
    "# season period\n",
    "if 'season' in cfg.period:\n",
    "    period_start = ee.Date(ee.Number(queryEvent['year']).format()).advance(cfg.season[0], 'month')\n",
    "    period_end = ee.Date(ee.Number(queryEvent['year']).format()).advance(cfg.season[-1], 'month')\n",
    "\n",
    "print(period_start.format().getInfo(), period_end.format().getInfo())\n",
    "\n"
   ]
  },
  {
   "cell_type": "code",
   "execution_count": 4,
   "metadata": {},
   "outputs": [],
   "source": [
    "def get_pntsFilter(roi, buffer_size=-2e3):\n",
    "    ## ==> Point Filters <==\n",
    "    pnt_roi = roi.buffer(buffer_size, ee.ErrorMargin(1)).bounds()\n",
    "    coordList = ee.List(pnt_roi.coordinates().get(0))\n",
    "    btmLeft = ee.Geometry.Point(coordList.get(0))\n",
    "    btmRight = ee.Geometry.Point(coordList.get(1))\n",
    "    topRight = ee.Geometry.Point(coordList.get(2))\n",
    "    topLeft = ee.Geometry.Point(coordList.get(3))\n",
    "    pntsFC = ee.FeatureCollection([btmLeft, btmRight, topRight, topLeft]).style(color=\"red\")\n",
    "\n",
    "    # if len(pntsList) > 0:\n",
    "    pntsFilter = ee.Filter.And(\n",
    "        ee.Filter.geometry(btmLeft),\n",
    "        ee.Filter.geometry(btmRight),\n",
    "        ee.Filter.geometry(topRight),\n",
    "        ee.Filter.geometry(topLeft))\n",
    "    \n",
    "    return pntsFilter, pntsFC\n",
    "\n",
    "pntsFilter, pntsFC = get_pntsFilter(queryEvent.roi)"
   ]
  },
  {
   "source": [
    "# Query S2 MSI Data"
   ],
   "cell_type": "markdown",
   "metadata": {}
  },
  {
   "cell_type": "code",
   "execution_count": 5,
   "metadata": {},
   "outputs": [],
   "source": [
    "# \"\"\" Query S2 MSI Data \"\"\"\n",
    "\n",
    "# S2_Dict = {\n",
    "#     'SR': \"COPERNICUS/S2_SR\",\n",
    "#     'TOA': \"COPERNICUS/S2\"\n",
    "# }\n",
    "\n",
    "# L8_Dict = {\n",
    "#     'SR': \"LANDSAT/LC08/C01/T1_SR\",\n",
    "#     'TOA': \"LANDSAT/LC08/C01/T1_TOA\"\n",
    "# }\n",
    "\n",
    "\n",
    "# MSI = ee.ImageCollection(S2_Dict['TOA']).filterBounds(queryEvent['roi'])\n",
    "# cloudFilter = ee.Filter.lte(\"CLOUDY_PIXEL_PERCENTAGE\", 30)\n",
    "\n",
    "# MSI_pre = MSI.filterDate(period_start.advance(-1, 'year'), period_end.advance(-1, \"year\")).filter(cloudFilter).median()\n",
    "# MSI_post = MSI.filterDate(period_start.advance(1, 'year'), period_end.advance(1, \"year\")).filter(cloudFilter).median()"
   ]
  },
  {
   "source": [
    "# Query S1 SAR Data"
   ],
   "cell_type": "markdown",
   "metadata": {}
  },
  {
   "cell_type": "code",
   "execution_count": 6,
   "metadata": {},
   "outputs": [],
   "source": [
    "\"\"\" Query S1 SAR Data \"\"\"\n",
    "\n",
    "# Sentinel-1\n",
    "def set_group_index_4_S1(img, groupLevel=13, labelShowLevel=13):\n",
    "        orbitKey = (ee.String(img.get(\"orbitProperties_pass\")).replace('DESCENDING', 'DSC').replace('ASCENDING', 'ASC')\n",
    "                    .cat(ee.Number(img.get(\"relativeOrbitNumber_start\")).int().format()))\n",
    "        Date = (img.date().format().slice(0, labelShowLevel)\n",
    "                    .replace('-', '').replace('-', '').replace(':', '').replace(':', ''))\n",
    "        Name = (Date).cat('_').cat(orbitKey)\n",
    "\n",
    "        groupIndex = img.date().format().slice(0, groupLevel)  # 2017 - 07 - 23T14:11:22(len: 19)\n",
    "        return img.setMulti({\n",
    "            'GROUP_INDEX': groupIndex,\n",
    "            'IMG_LABEL': Name,\n",
    "            'Orbit_Key': orbitKey\n",
    "        })\n",
    "\n",
    "def unionGeomFun(img, first):\n",
    "    rightGeo = ee.Geometry(img.geometry())\n",
    "    return ee.Geometry(first).union(rightGeo)\n",
    "\n",
    "def toNatural(img):\n",
    "        return ee.Image(10.0).pow(img.divide(10.0))\n",
    "\n",
    "def toDB(img):\n",
    "    return ee.Image(img).log10().multiply(10.0)\n",
    "\n",
    "def add_RFDI(img):\n",
    "    RFDI = toNatural(img.select(['VV','VH'])).normalizedDifference(['VV', 'VH']).select('nd').rename('ND')\n",
    "    RFDI_dB = toDB(RFDI).multiply(10)\n",
    "\n",
    "    return img.addBands(RFDI_dB).copyProperties(img, img.propertyNames())\n",
    "\n",
    "def add_CR(img):\n",
    "    return img.addBands(img.expression(\"b('VH')-b('VV')\").rename('CR'))\n",
    "\n",
    "\n",
    "# start to query S1 data\n",
    "S1_flt = ee.ImageCollection(ee.ImageCollection(\"COPERNICUS/S1_GRD\")\n",
    "                        .filterBounds(queryEvent.roi)\n",
    "                        .filterMetadata('instrumentMode', \"equals\", 'IW')\n",
    "                        .filter(ee.Filter.listContains('transmitterReceiverPolarisation', 'VV'))\n",
    "                        .filter(ee.Filter.listContains('transmitterReceiverPolarisation', 'VH'))\n",
    "                    ).select(['VH', 'VV'])\n",
    "\n",
    "\n",
    "S1_pre = (S1_flt.filterDate(period_start.advance(-1, 'year'), period_end.advance(-1, \"year\"))\n",
    "                .map(add_RFDI)\n",
    "                .map(set_group_index_4_S1)\n",
    "        )\n",
    "\n",
    "S1_post = (S1_flt.filterDate(period_start.advance(1, 'year'), period_end.advance(1, \"year\"))\n",
    "                .map(add_RFDI)\n",
    "                .map(set_group_index_4_S1)\n",
    "        )\n",
    "\n",
    "# SAR orbits\n",
    "pre_orbits = S1_pre.aggregate_array(\"Orbit_Key\").distinct().getInfo()\n",
    "post_orbits = S1_post.aggregate_array(\"Orbit_Key\").distinct().getInfo()\n",
    "common_orbits = list(set(pre_orbits) & set(post_orbits))\n",
    "\n",
    "# Compute average image for each orbit\n",
    "S1 = {}\n",
    "for orbit in common_orbits:\n",
    "# for orbit in ['DSC160']:\n",
    "    orbImgCol_pre = S1_pre.filter(ee.Filter.eq(\"Orbit_Key\", orbit))#.sort(\"GROUP_INDEX\", False)\n",
    "    orbImgCol_post = S1_post.filter(ee.Filter.eq(\"Orbit_Key\", orbit))#.sort(\"GROUP_INDEX\", False)\n",
    "\n",
    "    orb_images = orbImgCol_pre.filter(ee.Filter.eq(\"IMG_LABEL\", orbImgCol_pre.first().get(\"IMG_LABEL\")))\n",
    "    firstImgGeom = orb_images.first().geometry()\n",
    "    orb_geom = ee.Geometry(orb_images.iterate(unionGeomFun, firstImgGeom))\n",
    "\n",
    "    if orb_geom.contains(queryEvent.roi, ee.ErrorMargin(1)).getInfo():\n",
    "        S1[f\"{orbit}_pre\"] = orbImgCol_pre.mean()\n",
    "        S1[f\"{orbit}_post\"] = orbImgCol_post.mean()\n",
    "\n",
    "        # Map.addLayer(orb_geom, {}, f\"{orbit}_geom\")\n",
    "        # Map.addLayer(S1[f\"{orbit}_pre\"], {\"bands\": ['VH'], \"min\":-20, \"max\": -10}, f\"{orbit}_pre\")\n",
    "        # Map.addLayer(S1[f\"{orbit}_post\"], {\"bands\": ['VH'], \"min\":-20, \"max\": -10}, f\"{orbit}_post\")\n",
    "        "
   ]
  },
  {
   "cell_type": "code",
   "execution_count": 7,
   "metadata": {},
   "outputs": [
    {
     "output_type": "execute_result",
     "data": {
      "text/plain": [
       "{'DSC131_pre': <ee.image.Image at 0x241ffade648>,\n",
       " 'DSC131_post': <ee.image.Image at 0x241ffae05c8>,\n",
       " 'ASC94_pre': <ee.image.Image at 0x241ffab7208>,\n",
       " 'ASC94_post': <ee.image.Image at 0x241ffad2308>}"
      ]
     },
     "metadata": {},
     "execution_count": 7
    }
   ],
   "source": [
    "S1"
   ]
  },
  {
   "cell_type": "code",
   "execution_count": 8,
   "metadata": {},
   "outputs": [],
   "source": [
    "Map.centerObject(queryEvent.roi, 6)\n",
    "\n",
    "def unionGeomFun(img, first):\n",
    "    rightGeo = ee.Geometry(img.geometry())\n",
    "    return ee.Geometry(first).union(rightGeo)\n",
    "\n",
    "S1 = {}\n",
    "for orbit in common_orbits:\n",
    "# for orbit in ['DSC160']:\n",
    "    orbImgCol_pre = S1_pre.filter(ee.Filter.eq(\"Orbit_Key\", orbit))#.sort(\"GROUP_INDEX\", False)\n",
    "    orbImgCol_post = S1_post.filter(ee.Filter.eq(\"Orbit_Key\", orbit))#.sort(\"GROUP_INDEX\", False)\n",
    "\n",
    "    orb_images = orbImgCol_pre.filter(ee.Filter.eq(\"IMG_LABEL\", orbImgCol_pre.first().get(\"IMG_LABEL\")))\n",
    "    firstImgGeom = orb_images.first().geometry()\n",
    "    orb_geom = ee.Geometry(orb_images.iterate(unionGeomFun, firstImgGeom))\n",
    "\n",
    "    if orb_geom.contains(queryEvent.roi, ee.ErrorMargin(1)).getInfo():\n",
    "        S1[f\"{orbit}_pre\"] = orbImgCol_pre.mean()\n",
    "        S1[f\"{orbit}_post\"] = orbImgCol_post.mean()\n",
    "\n",
    "        # Map.addLayer(orb_geom, {}, f\"{orbit}_geom\")\n",
    "        Map.addLayer(S1[f\"{orbit}_pre\"], {\"bands\": ['VH'], \"min\":-20, \"max\": -10}, f\"{orbit}_pre\")\n",
    "        Map.addLayer(S1[f\"{orbit}_post\"], {\"bands\": ['VH'], \"min\":-20, \"max\": -10}, f\"{orbit}_post\")\n",
    "        \n",
    "Map.addLayer(queryEvent['roi'], {}, 'roi', True, 0.3)"
   ]
  },
  {
   "cell_type": "code",
   "execution_count": 9,
   "metadata": {},
   "outputs": [
    {
     "output_type": "execute_result",
     "data": {
      "text/plain": [
       "{'DSC131_pre': <ee.image.Image at 0x241ffac5348>,\n",
       " 'DSC131_post': <ee.image.Image at 0x241ffab93c8>,\n",
       " 'ASC94_pre': <ee.image.Image at 0x241ff762b08>,\n",
       " 'ASC94_post': <ee.image.Image at 0x241ffac5b08>}"
      ]
     },
     "metadata": {},
     "execution_count": 9
    }
   ],
   "source": [
    "S1 "
   ]
  },
  {
   "cell_type": "code",
   "execution_count": 10,
   "metadata": {},
   "outputs": [],
   "source": [
    "checkOrb = \"ASC94\"\n",
    "S1_MT = ee.Image.cat([S1[f'{checkOrb}_pre'], S1[f'{checkOrb}_post']])\n",
    "Map.addLayer(S1_MT, {'bands':['VH', 'VH_1', 'VH_1'], 'min': -20, 'max': -10}, f'S1_MT: {checkOrb}')"
   ]
  },
  {
   "source": [
    "# ALOS"
   ],
   "cell_type": "markdown",
   "metadata": {}
  },
  {
   "cell_type": "code",
   "execution_count": 7,
   "metadata": {},
   "outputs": [],
   "source": [
    "def toDB(img):\n",
    "    return ee.Image(img).log10().multiply(10.0)\n",
    "    \n",
    "def add_ALOS_RFDI(img):\n",
    "    RFDI = img.select(['HH','HV']).normalizedDifference(['HH','HV']).select('nd').rename('ND')\n",
    "    RFDI_dB = toDB(RFDI).multiply(3)\n",
    "    return img.addBands(RFDI_dB)\n",
    "\n",
    "def to_ALOS_dB(img):\n",
    "    return img.addBands(img.select(['HH', 'HV']).pow(ee.Image(2)).log10().multiply(10).subtract(83), ['HH', 'HV'], True)\n",
    "\n",
    "def add_ALOS_CR(img):\n",
    "    return img.addBands(img.expression(\"b('HV')-b('HH')\").rename('CR'))\n",
    "\n",
    "\n",
    "# ALOS\n",
    "PALSAR = ee.ImageCollection(\"JAXA/ALOS/PALSAR/YEARLY/SAR\")\n",
    "PALSAR_dB = PALSAR.map(add_ALOS_RFDI).map(to_ALOS_dB)#.map(add_ALOS_CR)\n",
    "\n",
    "before_year = ee.Number.parse(queryEvent.year).subtract(1).format().getInfo()\n",
    "after_year = ee.Number.parse(queryEvent.year).add(1).format().getInfo()\n",
    "\n",
    "ALOS_pre = PALSAR_dB.filter(ee.Filter.eq(\"system:index\", before_year)).first()\n",
    "ALOS_post = PALSAR_dB.filter(ee.Filter.eq(\"system:index\", after_year)).first()\n",
    "\n",
    "ALOS = edict()\n",
    "ALOS['pre'] = ALOS_pre.select([\"ND\", \"HV\", \"HH\"])\n",
    "ALOS['post'] = ALOS_pre.select([\"ND\", \"HV\", \"HH\"])"
   ]
  },
  {
   "cell_type": "code",
   "execution_count": 8,
   "metadata": {},
   "outputs": [],
   "source": [
    "Map.addLayer(ALOS['post'].clip(queryEvent.roi), {\"bands\": [\"ND\", \"HV\", \"HH\"], \"min\":-20, \"max\": -10}, f\"alos_post\")"
   ]
  },
  {
   "cell_type": "code",
   "execution_count": 28,
   "metadata": {},
   "outputs": [
    {
     "output_type": "execute_result",
     "data": {
      "text/plain": [
       "'2020'"
      ]
     },
     "metadata": {},
     "execution_count": 28
    }
   ],
   "source": [
    "after_year"
   ]
  },
  {
   "cell_type": "code",
   "execution_count": 9,
   "metadata": {},
   "outputs": [
    {
     "output_type": "display_data",
     "data": {
      "text/plain": "Map(center=[40, -100], controls=(WidgetControl(options=['position', 'transparent_bg'], widget=HBox(children=(T…",
      "application/vnd.jupyter.widget-view+json": {
       "version_major": 2,
       "version_minor": 0,
       "model_id": "bae6f379ebde4e1c8f9b8ca3d354e442"
      }
     },
     "metadata": {}
    }
   ],
   "source": [
    "Map"
   ]
  },
  {
   "source": [
    "# Mask"
   ],
   "cell_type": "markdown",
   "metadata": {}
  },
  {
   "cell_type": "code",
   "execution_count": 14,
   "metadata": {},
   "outputs": [
    {
     "output_type": "execute_result",
     "data": {
      "text/plain": [
       "['BurnDate', 'Uncertainty', 'QA', 'FirstDay', 'LastDay']"
      ]
     },
     "metadata": {},
     "execution_count": 14
    }
   ],
   "source": [
    "modis.bandNames().getInfo()"
   ]
  },
  {
   "cell_type": "code",
   "execution_count": 15,
   "metadata": {},
   "outputs": [
    {
     "output_type": "execute_result",
     "data": {
      "text/plain": [
       "['BurnDate', 'ConfidenceLevel', 'LandCover', 'ObservedFlag']"
      ]
     },
     "metadata": {},
     "execution_count": 15
    }
   ],
   "source": [
    "firecci.bandNames().getInfo()"
   ]
  },
  {
   "cell_type": "code",
   "execution_count": 17,
   "metadata": {},
   "outputs": [
    {
     "output_type": "stream",
     "name": "stdout",
     "text": [
      "AK\n"
     ]
    }
   ],
   "source": [
    "WHERE = \"AK\"  # or \"US\"\n",
    "mask_dict = edict()\n",
    "\n",
    "# MODIS\n",
    "MODIS = ee.ImageCollection(\"MODIS/006/MCD64A1\")\n",
    "modis = MODIS.filterDate(ee.Date(queryEvent.year), ee.Date(queryEvent.year).advance(1, 'year')).mosaic()\n",
    "mask_dict['modis'] = modis.select(\"BurnDate\")\n",
    "\n",
    "# FireCCI51\n",
    "FireCCI51 = ee.ImageCollection(\"ESA/CCI/FireCCI/5_1\")\n",
    "firecci = FireCCI51.filterDate(ee.Date(queryEvent.year), ee.Date(queryEvent.year).advance(1, 'year')).mosaic()\n",
    "mask_dict['firecci'] = firecci.select(\"BurnDate\")\n",
    "\n",
    "# Water\n",
    "landCover = ee.Image(\"COPERNICUS/Landcover/100m/Proba-V-C3/Global/2017\")\n",
    "landCover = ee.Image(landCover.select(\"discrete_classification\").rename('CGLS').setMulti({'IMG_LABEL': 'CGLS'}))\n",
    "water = (landCover.neq(80).And(landCover.neq(200))).rename('water')\n",
    "mask_dict['water'] = water\n",
    "\n",
    "# Polygon\n",
    "if WHERE in ['AK', 'US']:\n",
    "    print(WHERE)\n",
    "\n",
    "    # USA\n",
    "    US_bef_2018 = ee.FeatureCollection(\"users/omegazhangpzh/C_US_Fire_Perimeters/US_HIST_FIRE_PERIMTRS_2000_2018_DD83\")\n",
    "    US_2019 = ee.FeatureCollection(\"users/omegazhangpzh/C_US_Fire_Perimeters/US_HIST_FIRE_PERIM_2019_dd83\")\n",
    "    poly = (US_bef_2018.filterBounds(queryEvent.roi).filter(ee.Filter.gte(\"fireyear\", 2017))\n",
    "                .merge(US_2019.filterBounds(queryEvent.roi))\n",
    "                .filter(ee.Filter.gte(\"gisacres\", 5000)) # burned area\n",
    "            ).union(ee.ErrorMargin(30))\n",
    "    polyImg = poly.style(color='white', fillColor='white', width=0).select('vis-red').gt(0).rename('poly')\n",
    "    mask_dict['poly'] = polyImg\n",
    "                \n",
    "    # USA MTBS\n",
    "    mtbs = ee.Image.loadGeoTIFF(f\"gs://eo4wildfire/US_BurnSeverityRaster/mtbs_{WHERE}_{queryEvent.year}.tif\")\n",
    "    mask_dict['mtbs'] = mtbs\n",
    "\n",
    "if WHERE in ['CA']:\n",
    "    pass\n",
    "\n",
    "if WHERE in ['EU']:\n",
    "    pass\n"
   ]
  },
  {
   "cell_type": "code",
   "execution_count": 21,
   "metadata": {},
   "outputs": [
    {
     "output_type": "execute_result",
     "data": {
      "text/plain": [
       "{'modis': <ee.image.Image at 0x241824ea608>,\n",
       " 'firecci': <ee.image.Image at 0x2418239f488>,\n",
       " 'water': <ee.image.Image at 0x241824ce8c8>,\n",
       " 'poly': <ee.image.Image at 0x24181ca0e88>,\n",
       " 'mtbs': <ee.image.Image at 0x2418248d288>}"
      ]
     },
     "metadata": {},
     "execution_count": 21
    }
   ],
   "source": [
    "mask_dict"
   ]
  },
  {
   "cell_type": "code",
   "execution_count": 18,
   "metadata": {},
   "outputs": [],
   "source": [
    "Map.addLayer(mtbs.clip(queryEvent.roi), {\"min\":0, \"max\": 6}, 'mtbs')\n",
    "Map.addLayer(modis.clip(queryEvent.roi), {}, 'modis')\n",
    "Map.addLayer(firecci.clip(queryEvent.roi), {}, 'firecci')\n",
    "Map.addLayer(polyImg, {min:0, max: 1}, 'poly')\n",
    "Map.addLayer(water, {min:0, max: 1}, 'water')\n"
   ]
  },
  {
   "cell_type": "code",
   "execution_count": 19,
   "metadata": {},
   "outputs": [
    {
     "output_type": "display_data",
     "data": {
      "text/plain": "Map(bottom=4497.0, center=[65.61219222118567, -148.14545638310784], controls=(WidgetControl(options=['position…",
      "application/vnd.jupyter.widget-view+json": {
       "version_major": 2,
       "version_minor": 0,
       "model_id": "72707baa0ba54cfa9589926fff8ea3c0"
      }
     },
     "metadata": {}
    }
   ],
   "source": [
    "Map"
   ]
  },
  {
   "cell_type": "code",
   "execution_count": 9,
   "metadata": {},
   "outputs": [
    {
     "output_type": "execute_result",
     "data": {
      "text/plain": [
       "'DSC160'"
      ]
     },
     "metadata": {},
     "execution_count": 9
    }
   ],
   "source": [
    "orbit"
   ]
  },
  {
   "cell_type": "code",
   "execution_count": 26,
   "metadata": {},
   "outputs": [
    {
     "output_type": "execute_result",
     "data": {
      "text/plain": [
       "1"
      ]
     },
     "metadata": {},
     "execution_count": 26
    }
   ],
   "source": [
    "ee.ImageCollection(s1_pre_tmp).filter(pntsFilter).size().getInfo()"
   ]
  },
  {
   "cell_type": "code",
   "execution_count": 13,
   "metadata": {},
   "outputs": [
    {
     "output_type": "execute_result",
     "data": {
      "text/plain": [
       "{'type': 'Polygon',\n",
       " 'coordinates': [[[-180, -90],\n",
       "   [180, -90],\n",
       "   [180, 90],\n",
       "   [-180, 90],\n",
       "   [-180, -90]]]}"
      ]
     },
     "metadata": {},
     "execution_count": 13
    }
   ],
   "source": [
    "orbImgCol_post.mosaic().geometry().getInfo()"
   ]
  },
  {
   "cell_type": "code",
   "execution_count": 4,
   "metadata": {},
   "outputs": [],
   "source": [
    "Map.centerObject(queryEvent.roi, 10)\n",
    "Map.addLayer(MSI_pre, {\"bands\": ['B12', 'B8', 'B4'], \"min\":0, \"max\": 3000}, 'MSI_pre')\n",
    "Map.addLayer(MSI_post, {\"bands\": ['B12', 'B8', 'B4'], \"min\":0, \"max\": 3000}, 'MSI_post')\n",
    "\n",
    "Map.addLayer(queryEvent['roi'], {}, 'roi')"
   ]
  },
  {
   "cell_type": "code",
   "execution_count": 30,
   "metadata": {},
   "outputs": [],
   "source": [
    "Map.addLayer(pntsFC, {}, 'pntsFC')"
   ]
  },
  {
   "cell_type": "code",
   "execution_count": 32,
   "metadata": {},
   "outputs": [],
   "source": [
    "Map.addLayer(S1_pre.filter(ee.Filter.eq(\"Orbit_Key\", orbit)).first().geometry(), {}, 'geom')"
   ]
  },
  {
   "cell_type": "code",
   "execution_count": null,
   "metadata": {},
   "outputs": [],
   "source": []
  }
 ]
}