{
 "metadata": {
  "language_info": {
   "codemirror_mode": {
    "name": "ipython",
    "version": 3
   },
   "file_extension": ".py",
   "mimetype": "text/x-python",
   "name": "python",
   "nbconvert_exporter": "python",
   "pygments_lexer": "ipython3",
   "version": "3.7.10"
  },
  "orig_nbformat": 2,
  "kernelspec": {
   "name": "python3710jvsc74a57bd0b26d3d498dc656b664098f7e87c5d0dab930058957088b8e1c9772db90c9ed0d",
   "display_name": "Python 3.7.10 64-bit ('gee': conda)"
  }
 },
 "nbformat": 4,
 "nbformat_minor": 2,
 "cells": [
  {
   "cell_type": "code",
   "execution_count": 1,
   "metadata": {},
   "outputs": [],
   "source": [
    "import ee \n",
    "ee.Initialize()"
   ]
  },
  {
   "cell_type": "code",
   "execution_count": 2,
   "metadata": {},
   "outputs": [],
   "source": [
    "import geemap\n",
    "Map = geemap.Map()\n",
    "# Map"
   ]
  },
  {
   "cell_type": "code",
   "execution_count": 3,
   "metadata": {},
   "outputs": [
    {
     "output_type": "stream",
     "name": "stdout",
     "text": [
      "G:\\PyProjects\\wildfire-s1s2-dataset\\wildfire_events\\MTBS_AK_2017_2019_events_ROI.json\n",
      "easydict.EasyDict({\n",
      "    'Asmnt_Type': 'Extended',\n",
      "    'BurnBndAc': 181458,\n",
      "    'BurnBndLat': '65.62',\n",
      "    'BurnBndLon': '-148.137',\n",
      "    'Comment':\n",
      "        'Area is a mixture of forest and shrubland.  High severity is mainly '\n",
      "        'located in forested areas.',\n",
      "    'Event_ID': 'AK6569814836520190622',\n",
      "    'High_T': 700,\n",
      "    'Ig_Date': '2019-06-22',\n",
      "    'IncGreen_T': -150,\n",
      "    'Incid_Name': 'HESS CREEK',\n",
      "    'Incid_Type': 'Wildfire',\n",
      "    'Low_T': 40,\n",
      "    'Map_ID': 10016692,\n",
      "    'Map_Prog': 'MTBS',\n",
      "    'Mod_T': 363,\n",
      "    'NoData_T': -970,\n",
      "    'Perim_ID': None,\n",
      "    'Post_ID': '807101420200705',\n",
      "    'Pre_ID': '807101420170713',\n",
      "    'dNBR_offst': 9,\n",
      "    'dNBR_stdDv': 18,\n",
      "    'irwinID': '4AB4BF76-9D3B-4C1C-90B0-4BC9EE81B40A',\n",
      "    'crs': 'EPSG:3338',\n",
      "    'name': 'ak6569814836520190622',\n",
      "    'YEAR': 2019,\n",
      "    'mtbs_pre': 'ak6569814836520190622_20170713_L8_refl.tif',\n",
      "    'mtbs_post': 'ak6569814836520190622_20200705_L8_refl.tif',\n",
      "    'mtbs': 'ak6569814836520190622_20170713_20200705_dnbr6.tif',\n",
      "    'roi': [\n",
      "        [-148.66696753901996, 65.8087995528058],\n",
      "        [-148.73510228133077, 65.45595031598108],\n",
      "        [-147.63798140987183, 65.41580919332611],\n",
      "        [-147.55581048488497, 65.76811239612013],\n",
      "        [-148.66696753901996, 65.8087995528058]\n",
      "    ],\n",
      "    'MIN_HA_TH': 1000.0,\n",
      "    'year': 2019,\n",
      "    'areaTH': 1000.0,\n",
      "    'modisStartDate': '2019-06-20',\n",
      "    'modisEndDate': '2019-08-25',\n",
      "    'BIOME_NUM': 11,\n",
      "    'BIOME_NAME': 'Temperate Grasslands, Savannas & Shrublands',\n",
      "    'start_date': '2019-06-22',\n",
      "    'end_date': '2019-08-25'\n",
      "})\n",
      "2019-05-22T00:00:00 2019-08-22T00:00:00\n"
     ]
    }
   ],
   "source": [
    "\n",
    "from typing import Dict\n",
    "import ee\n",
    "ee.Initialize()\n",
    "\n",
    "from easydict import EasyDict as edict\n",
    "from prettyprinter import pprint\n",
    "\n",
    "import logging\n",
    "logger = logging.getLogger(__name__)\n",
    "\n",
    "# from eo_class.modisPoly import MODIS_POLY\n",
    "import yaml\n",
    "import numpy as np\n",
    "import json\n",
    "\n",
    "\"\"\" CFG \"\"\"\n",
    "cfg = edict({\n",
    "    \"JSON\": \"G:\\PyProjects\\wildfire-s1s2-dataset\\wildfire_events\\MTBS_AK_2017_2019_events_ROI.json\"\n",
    "})\n",
    "\n",
    "\"\"\" Fire Event \"\"\"\n",
    "\n",
    "from eo_class.fireEvent import load_json\n",
    "print(cfg.JSON)\n",
    "EVENT_SET = load_json(cfg.JSON)\n",
    "event = EVENT_SET['ak6569814836520190622']\n",
    "# pprint(event)\n",
    "\n",
    "queryEvent = edict(event.copy())\n",
    "queryEvent['start_date'] = event['Ig_Date']\n",
    "queryEvent['end_date'] = event['modisEndDate']\n",
    "queryEvent['year'] = event['YEAR']\n",
    "\n",
    "pprint(queryEvent)\n",
    "\n",
    "queryEvent['roi'] = ee.Geometry.Polygon(event['roi']).bounds()\n",
    "\n",
    "\n",
    "# pprint(queryEvent)\n",
    "\n",
    "period_start = ee.Date(queryEvent['start_date']).advance(-1, 'month')\n",
    "period_end = ee.Date(queryEvent['start_date']).advance(2, 'month')\n",
    "print(period_start.format().getInfo(), period_end.format().getInfo())\n",
    "\n"
   ]
  },
  {
   "cell_type": "code",
   "execution_count": 4,
   "metadata": {},
   "outputs": [],
   "source": [
    "def get_pntsFilter(roi, buffer_size=-2e3):\n",
    "    ## ==> Point Filters <==\n",
    "    pnt_roi = roi.buffer(buffer_size, ee.ErrorMargin(1)).bounds()\n",
    "    coordList = ee.List(pnt_roi.coordinates().get(0))\n",
    "    btmLeft = ee.Geometry.Point(coordList.get(0))\n",
    "    btmRight = ee.Geometry.Point(coordList.get(1))\n",
    "    topRight = ee.Geometry.Point(coordList.get(2))\n",
    "    topLeft = ee.Geometry.Point(coordList.get(3))\n",
    "    pntsFC = ee.FeatureCollection([btmLeft, btmRight, topRight, topLeft]).style(color=\"red\")\n",
    "\n",
    "    # if len(pntsList) > 0:\n",
    "    pntsFilter = ee.Filter.And(\n",
    "        ee.Filter.geometry(btmLeft),\n",
    "        ee.Filter.geometry(btmRight),\n",
    "        ee.Filter.geometry(topRight),\n",
    "        ee.Filter.geometry(topLeft))\n",
    "    \n",
    "    return pntsFilter, pntsFC\n",
    "\n",
    "pntsFilter, pntsFC = get_pntsFilter(queryEvent.roi)"
   ]
  },
  {
   "cell_type": "code",
   "execution_count": 5,
   "metadata": {},
   "outputs": [],
   "source": [
    "# \"\"\" Query S2 MSI Data \"\"\"\n",
    "\n",
    "# S2_Dict = {\n",
    "#     'SR': \"COPERNICUS/S2_SR\",\n",
    "#     'TOA': \"COPERNICUS/S2\"\n",
    "# }\n",
    "\n",
    "# L8_Dict = {\n",
    "#     'SR': \"LANDSAT/LC08/C01/T1_SR\",\n",
    "#     'TOA': \"LANDSAT/LC08/C01/T1_TOA\"\n",
    "# }\n",
    "\n",
    "\n",
    "# MSI = ee.ImageCollection(S2_Dict['TOA']).filterBounds(queryEvent['roi'])\n",
    "# cloudFilter = ee.Filter.lte(\"CLOUDY_PIXEL_PERCENTAGE\", 30)\n",
    "\n",
    "# MSI_pre = MSI.filterDate(period_start.advance(-1, 'year'), period_end.advance(-1, \"year\")).filter(cloudFilter).median()\n",
    "# MSI_post = MSI.filterDate(period_start.advance(1, 'year'), period_end.advance(1, \"year\")).filter(cloudFilter).median()"
   ]
  },
  {
   "cell_type": "code",
   "execution_count": 6,
   "metadata": {},
   "outputs": [],
   "source": [
    "\"\"\" Query S1 SAR Data \"\"\"\n",
    "def set_group_index_4_S1(img, groupLevel=13, labelShowLevel=13):\n",
    "        orbitKey = (ee.String(img.get(\"orbitProperties_pass\")).replace('DESCENDING', 'DSC').replace('ASCENDING', 'ASC')\n",
    "                    .cat(ee.Number(img.get(\"relativeOrbitNumber_start\")).int().format()))\n",
    "        Date = (img.date().format().slice(0, labelShowLevel)\n",
    "                    .replace('-', '').replace('-', '').replace(':', '').replace(':', ''))\n",
    "        Name = (Date).cat('_').cat(orbitKey)\n",
    "\n",
    "        groupIndex = img.date().format().slice(0, groupLevel)  # 2017 - 07 - 23T14:11:22(len: 19)\n",
    "        return img.setMulti({\n",
    "            'GROUP_INDEX': groupIndex,\n",
    "            'IMG_LABEL': Name,\n",
    "            'Orbit_Key': orbitKey\n",
    "        })\n",
    "\n",
    "def unionGeomFun(img, first):\n",
    "    rightGeo = ee.Geometry(img.geometry())\n",
    "    return ee.Geometry(first).union(rightGeo)\n",
    "\n",
    "S1_flt = ee.ImageCollection(ee.ImageCollection(\"COPERNICUS/S1_GRD\")\n",
    "                        .filterBounds(queryEvent.roi)\n",
    "                        .filterMetadata('instrumentMode', \"equals\", 'IW')\n",
    "                        .filter(ee.Filter.listContains('transmitterReceiverPolarisation', 'VV'))\n",
    "                        .filter(ee.Filter.listContains('transmitterReceiverPolarisation', 'VH'))\n",
    "                    ).select(['VH', 'VV'])\n",
    "\n",
    "S1_pre = S1_flt.filterDate(period_start.advance(-1, 'year'), period_end.advance(-1, \"year\")).map(set_group_index_4_S1)\n",
    "S1_post = S1_flt.filterDate(period_start.advance(1, 'year'), period_end.advance(1, \"year\")).map(set_group_index_4_S1)\n",
    "\n",
    "# SAR orbits\n",
    "pre_orbits = S1_pre.aggregate_array(\"Orbit_Key\").distinct().getInfo()\n",
    "post_orbits = S1_post.aggregate_array(\"Orbit_Key\").distinct().getInfo()\n",
    "common_orbits = list(set(pre_orbits) & set(post_orbits))\n",
    "\n",
    "# Compute average image for each orbit\n",
    "S1 = {}\n",
    "for orbit in common_orbits:\n",
    "# for orbit in ['DSC160']:\n",
    "    orbImgCol_pre = S1_pre.filter(ee.Filter.eq(\"Orbit_Key\", orbit))#.sort(\"GROUP_INDEX\", False)\n",
    "    orbImgCol_post = S1_post.filter(ee.Filter.eq(\"Orbit_Key\", orbit))#.sort(\"GROUP_INDEX\", False)\n",
    "\n",
    "    orb_images = orbImgCol_pre.filter(ee.Filter.eq(\"IMG_LABEL\", orbImgCol_pre.first().get(\"IMG_LABEL\")))\n",
    "    firstImgGeom = orb_images.first().geometry()\n",
    "    orb_geom = ee.Geometry(orb_images.iterate(unionGeomFun, firstImgGeom))\n",
    "\n",
    "    if orb_geom.contains(queryEvent.roi, ee.ErrorMargin(1)).getInfo():\n",
    "        S1[f\"{orbit}_pre\"] = orbImgCol_pre.mean()\n",
    "        S1[f\"{orbit}_post\"] = orbImgCol_post.mean()\n",
    "\n",
    "        # Map.addLayer(orb_geom, {}, f\"{orbit}_geom\")\n",
    "        # Map.addLayer(S1[f\"{orbit}_pre\"], {\"bands\": ['VH'], \"min\":-20, \"max\": -10}, f\"{orbit}_pre\")\n",
    "        # Map.addLayer(S1[f\"{orbit}_post\"], {\"bands\": ['VH'], \"min\":-20, \"max\": -10}, f\"{orbit}_post\")\n",
    "        "
   ]
  },
  {
   "cell_type": "code",
   "execution_count": 7,
   "metadata": {},
   "outputs": [],
   "source": []
  },
  {
   "cell_type": "code",
   "execution_count": 8,
   "metadata": {},
   "outputs": [],
   "source": [
    "Map.centerObject(queryEvent.roi, 6)\n",
    "\n",
    "def unionGeomFun(img, first):\n",
    "    rightGeo = ee.Geometry(img.geometry())\n",
    "    return ee.Geometry(first).union(rightGeo)\n",
    "\n",
    "S1 = {}\n",
    "for orbit in common_orbits:\n",
    "# for orbit in ['DSC160']:\n",
    "    orbImgCol_pre = S1_pre.filter(ee.Filter.eq(\"Orbit_Key\", orbit))#.sort(\"GROUP_INDEX\", False)\n",
    "    orbImgCol_post = S1_post.filter(ee.Filter.eq(\"Orbit_Key\", orbit))#.sort(\"GROUP_INDEX\", False)\n",
    "\n",
    "    orb_images = orbImgCol_pre.filter(ee.Filter.eq(\"IMG_LABEL\", orbImgCol_pre.first().get(\"IMG_LABEL\")))\n",
    "    firstImgGeom = orb_images.first().geometry()\n",
    "    orb_geom = ee.Geometry(orb_images.iterate(unionGeomFun, firstImgGeom))\n",
    "\n",
    "    if orb_geom.contains(queryEvent.roi, ee.ErrorMargin(1)).getInfo():\n",
    "        S1[f\"{orbit}_pre\"] = orbImgCol_pre.mean()\n",
    "        S1[f\"{orbit}_post\"] = orbImgCol_post.mean()\n",
    "\n",
    "        Map.addLayer(orb_geom, {}, f\"{orbit}_geom\")\n",
    "        Map.addLayer(S1[f\"{orbit}_pre\"], {\"bands\": ['VH'], \"min\":-20, \"max\": -10}, f\"{orbit}_pre\")\n",
    "        Map.addLayer(S1[f\"{orbit}_post\"], {\"bands\": ['VH'], \"min\":-20, \"max\": -10}, f\"{orbit}_post\")\n",
    "        \n",
    "Map.addLayer(queryEvent['roi'], {}, 'roi', True, 0.3)"
   ]
  },
  {
   "cell_type": "code",
   "execution_count": 9,
   "metadata": {},
   "outputs": [
    {
     "output_type": "execute_result",
     "data": {
      "text/plain": [
       "{'DSC131_pre': <ee.image.Image at 0x1cf77c857c8>,\n",
       " 'DSC131_post': <ee.image.Image at 0x1cf78fed388>,\n",
       " 'ASC94_pre': <ee.image.Image at 0x1cf77c930c8>,\n",
       " 'ASC94_post': <ee.image.Image at 0x1cf79003bc8>}"
      ]
     },
     "metadata": {},
     "execution_count": 9
    }
   ],
   "source": [
    "S1 "
   ]
  },
  {
   "cell_type": "code",
   "execution_count": 15,
   "metadata": {},
   "outputs": [],
   "source": [
    "checkOrb = \"ASC94\"\n",
    "S1_MT = ee.Image.cat([S1[f'{checkOrb}_pre'], S1[f'{checkOrb}_post']])\n",
    "Map.addLayer(S1_MT, {'bands':['VH', 'VH_1', 'VH_1'], 'min': -20, 'max': -10}, f'S1_MT: {checkOrb}')"
   ]
  },
  {
   "cell_type": "code",
   "execution_count": 10,
   "metadata": {},
   "outputs": [
    {
     "output_type": "display_data",
     "data": {
      "text/plain": "Map(center=[65.61219222118567, -148.14545638310784], controls=(WidgetControl(options=['position', 'transparent…",
      "application/vnd.jupyter.widget-view+json": {
       "version_major": 2,
       "version_minor": 0,
       "model_id": "608de05fdd4d4b74b021db73d5661115"
      }
     },
     "metadata": {}
    }
   ],
   "source": [
    "Map"
   ]
  },
  {
   "cell_type": "code",
   "execution_count": 17,
   "metadata": {},
   "outputs": [],
   "source": [
    "orbImgCol_post = S1_post.filter(ee.Filter.eq(\"Orbit_Key\", \"ASC94\"))"
   ]
  },
  {
   "cell_type": "code",
   "execution_count": 18,
   "metadata": {},
   "outputs": [
    {
     "output_type": "execute_result",
     "data": {
      "text/plain": [
       "['20200531T03_ASC94',\n",
       " '20200531T03_ASC94',\n",
       " '20200612T03_ASC94',\n",
       " '20200612T03_ASC94',\n",
       " '20200624T03_ASC94',\n",
       " '20200624T03_ASC94',\n",
       " '20200706T03_ASC94',\n",
       " '20200706T03_ASC94',\n",
       " '20200718T03_ASC94',\n",
       " '20200718T03_ASC94',\n",
       " '20200730T03_ASC94',\n",
       " '20200730T03_ASC94',\n",
       " '20200811T03_ASC94',\n",
       " '20200811T03_ASC94']"
      ]
     },
     "metadata": {},
     "execution_count": 18
    }
   ],
   "source": [
    "orbImgCol_post.aggregate_array(\"IMG_LABEL\").getInfo()"
   ]
  },
  {
   "cell_type": "code",
   "execution_count": 10,
   "metadata": {},
   "outputs": [
    {
     "output_type": "display_data",
     "data": {
      "text/plain": "Map(bottom=4418.0, center=[66.31860698381531, -148.87767470525787], controls=(WidgetControl(options=['position…",
      "application/vnd.jupyter.widget-view+json": {
       "version_major": 2,
       "version_minor": 0,
       "model_id": "fca6be28000d4121b22c446f8dad05c8"
      }
     },
     "metadata": {}
    }
   ],
   "source": [
    "Map"
   ]
  },
  {
   "cell_type": "code",
   "execution_count": 9,
   "metadata": {},
   "outputs": [
    {
     "output_type": "execute_result",
     "data": {
      "text/plain": [
       "'DSC160'"
      ]
     },
     "metadata": {},
     "execution_count": 9
    }
   ],
   "source": [
    "orbit"
   ]
  },
  {
   "cell_type": "code",
   "execution_count": 26,
   "metadata": {},
   "outputs": [
    {
     "output_type": "execute_result",
     "data": {
      "text/plain": [
       "1"
      ]
     },
     "metadata": {},
     "execution_count": 26
    }
   ],
   "source": [
    "ee.ImageCollection(s1_pre_tmp).filter(pntsFilter).size().getInfo()"
   ]
  },
  {
   "cell_type": "code",
   "execution_count": 13,
   "metadata": {},
   "outputs": [
    {
     "output_type": "execute_result",
     "data": {
      "text/plain": [
       "{'type': 'Polygon',\n",
       " 'coordinates': [[[-180, -90],\n",
       "   [180, -90],\n",
       "   [180, 90],\n",
       "   [-180, 90],\n",
       "   [-180, -90]]]}"
      ]
     },
     "metadata": {},
     "execution_count": 13
    }
   ],
   "source": [
    "orbImgCol_post.mosaic().geometry().getInfo()"
   ]
  },
  {
   "cell_type": "code",
   "execution_count": 4,
   "metadata": {},
   "outputs": [],
   "source": [
    "Map.centerObject(queryEvent.roi, 10)\n",
    "Map.addLayer(MSI_pre, {\"bands\": ['B12', 'B8', 'B4'], \"min\":0, \"max\": 3000}, 'MSI_pre')\n",
    "Map.addLayer(MSI_post, {\"bands\": ['B12', 'B8', 'B4'], \"min\":0, \"max\": 3000}, 'MSI_post')\n",
    "\n",
    "Map.addLayer(queryEvent['roi'], {}, 'roi')"
   ]
  },
  {
   "cell_type": "code",
   "execution_count": 30,
   "metadata": {},
   "outputs": [],
   "source": [
    "Map.addLayer(pntsFC, {}, 'pntsFC')"
   ]
  },
  {
   "cell_type": "code",
   "execution_count": 32,
   "metadata": {},
   "outputs": [],
   "source": [
    "Map.addLayer(S1_pre.filter(ee.Filter.eq(\"Orbit_Key\", orbit)).first().geometry(), {}, 'geom')"
   ]
  },
  {
   "cell_type": "code",
   "execution_count": null,
   "metadata": {},
   "outputs": [],
   "source": []
  }
 ]
}